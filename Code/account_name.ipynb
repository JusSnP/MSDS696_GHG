{
  "nbformat": 4,
  "nbformat_minor": 0,
  "metadata": {
    "colab": {
      "provenance": [],
      "authorship_tag": "ABX9TyMikbQJEM7aNTwnGlofvgHL"
    },
    "kernelspec": {
      "name": "python3",
      "display_name": "Python 3"
    },
    "language_info": {
      "name": "python"
    }
  },
  "cells": [
    {
      "cell_type": "markdown",
      "source": [
        "##Account name/Account ID Reconciliation\n",
        "\n",
        "###Justin Parsons\n",
        "###MSDS696 S8W2 2025\n",
        "\n",
        "This notebook contains EDA focused on account_id and account_name. During MSDS692 it was discovered that multiple account_names are assigned to single account_ids. Multiple producers are listed under more than one name, not all of which can be accounted for by performing normal NLP treatments. For example acquisitions and company name changes appear as more than one producer if only considering account_name entries."
      ],
      "metadata": {
        "id": "zsgNCMoUMUoK"
      }
    },
    {
      "cell_type": "code",
      "source": [
        "import pandas as pd\n",
        "import numpy as np"
      ],
      "metadata": {
        "id": "E1tk6-_oMNok"
      },
      "execution_count": null,
      "outputs": []
    },
    {
      "cell_type": "code",
      "execution_count": null,
      "metadata": {
        "id": "ZIPsdfhYMLIw"
      },
      "outputs": [],
      "source": []
    }
  ]
}