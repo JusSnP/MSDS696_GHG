{
  "nbformat": 4,
  "nbformat_minor": 0,
  "metadata": {
    "colab": {
      "provenance": [],
      "authorship_tag": "ABX9TyPfZ4EnX4u8mqNli7epjfFp"
    },
    "kernelspec": {
      "name": "python3",
      "display_name": "Python 3"
    },
    "language_info": {
      "name": "python"
    }
  },
  "cells": [
    {
      "cell_type": "markdown",
      "source": [
        "##Account name/Account ID Reconciliation\n",
        "\n",
        "###Justin Parsons\n",
        "###MSDS696 S8W2 2025\n",
        "\n",
        "This notebook contains EDA focused on account_id and account_name. During MSDS692 it was discovered that multiple account_names are assigned to single account_ids. Multiple producers are listed under more than one name, not all of which can be accounted for by performing normal NLP treatments. For example acquisitions and company name changes appear as more than one producer if only considering account_name entries.  \n",
        "\n",
        "Note: I found that uploading the data to the colab environment truncates the data. To remedy this I've uploaded the data to google drive and am accessing it there."
      ],
      "metadata": {
        "id": "zsgNCMoUMUoK"
      }
    },
    {
      "cell_type": "code",
      "source": [
        "import pandas as pd\n",
        "import numpy as np\n",
        "import re\n",
        "\n",
        "from google.colab import drive"
      ],
      "metadata": {
        "id": "E1tk6-_oMNok"
      },
      "execution_count": 1,
      "outputs": []
    },
    {
      "cell_type": "code",
      "execution_count": 2,
      "metadata": {
        "colab": {
          "base_uri": "https://localhost:8080/"
        },
        "id": "ZIPsdfhYMLIw",
        "outputId": "55245a71-377f-466a-9a01-ccfe11daa9f2"
      },
      "outputs": [
        {
          "output_type": "stream",
          "name": "stdout",
          "text": [
            "Drive already mounted at /content/drive/; to attempt to forcibly remount, call drive.mount(\"/content/drive/\", force_remount=True).\n"
          ]
        },
        {
          "output_type": "stream",
          "name": "stderr",
          "text": [
            "<ipython-input-2-22598af36989>:11: DtypeWarning: Columns (3) have mixed types. Specify dtype option on import or set low_memory=False.\n",
            "  df = pd.read_csv(path+file_name)\n"
          ]
        },
        {
          "output_type": "stream",
          "name": "stdout",
          "text": [
            "        account_id                    account_name  \\\n",
            "82672        21365             ALPS ALPINE CO LTD.   \n",
            "111557       16891         Shinhan Financial Group   \n",
            "58841        35831  Freshfields Bruckhaus Deringer   \n",
            "110551       61702                          ROSSOW   \n",
            "139834      856838         PT.Anggun Kreasi Garmen   \n",
            "\n",
            "                                     incorporated_country      ticker  \\\n",
            "82672                                               Japan     6770 JP   \n",
            "111557                                  Republic of Korea   055550 KS   \n",
            "58841   United Kingdom of Great Britain and Northern I...         NaN   \n",
            "110551                                             France         NaN   \n",
            "139834                                          Indonesia         NaN   \n",
            "\n",
            "                         Evaluation_status  \\\n",
            "82672                 Relevant, calculated   \n",
            "111557                Relevant, calculated   \n",
            "58841   Not relevant, explanation provided   \n",
            "110551                Relevant, calculated   \n",
            "139834                Relevant, calculated   \n",
            "\n",
            "                                   Scope_3_emissions_type  \\\n",
            "82672            Upstream transportation and distribution   \n",
            "111557                               Use of sold products   \n",
            "58841          Downstream transportation and distribution   \n",
            "110551  Fuel-and-energy-related activities (not includ...   \n",
            "139834                      Waste generated in operations   \n",
            "\n",
            "        Scope_3_emissions_amount   Symbol_1  Year    Market_Cap  ...  \\\n",
            "82672                   1589.422     6770.T  2020  2.777436e+11  ...   \n",
            "111557                 40237.730  055550.KS  2021  1.901063e+13  ...   \n",
            "58841                      0.000    unknown  2018           NaN  ...   \n",
            "110551                     7.000    unknown  2021           NaN  ...   \n",
            "139834                   281.670    unknown  2022           NaN  ...   \n",
            "\n",
            "        grossProfit_USD  netIncome_USD  cashAndCashEquivalents_USD  \\\n",
            "82672      7.327296e+08  -2.455680e+07                9.796288e+08   \n",
            "111557     1.573631e+10   2.893863e+09                2.126235e+10   \n",
            "58841               NaN            NaN                         NaN   \n",
            "110551              NaN            NaN                         NaN   \n",
            "139834              NaN            NaN                         NaN   \n",
            "\n",
            "        shortTermInvestments_USD  longTermInvestments_USD totalAssets_USD  \\\n",
            "82672              -7.528960e+07             3.365952e+08    4.443424e+09   \n",
            "111557              4.668359e+10             1.296619e+11    4.666696e+11   \n",
            "58841                        NaN                      NaN             NaN   \n",
            "110551                       NaN                      NaN             NaN   \n",
            "139834                       NaN                      NaN             NaN   \n",
            "\n",
            "        totalLiabilities_USD  totalInvestments_USD  totalDebt_USD  \\\n",
            "82672           2.021798e+09          2.613056e+08   7.547904e+08   \n",
            "111557          4.310019e+11          1.763454e+11   8.145617e+10   \n",
            "58841                    NaN                   NaN            NaN   \n",
            "110551                   NaN                   NaN            NaN   \n",
            "139834                   NaN                   NaN            NaN   \n",
            "\n",
            "        totalEquity_USD  \n",
            "82672      2.421619e+09  \n",
            "111557     3.566766e+10  \n",
            "58841               NaN  \n",
            "110551              NaN  \n",
            "139834              NaN  \n",
            "\n",
            "[5 rows x 42 columns]\n"
          ]
        }
      ],
      "source": [
        "drive.mount('/content/drive/')\n",
        "path = \"/content/drive/MyDrive/GHG/Data/\"\n",
        "\n",
        "\n",
        "#create dataframe\n",
        "file_name = r'Mega_merged_all_real_values.csv'\n",
        "\n",
        "#this is here as a reminder that drive connections must be set properly for personal environment\n",
        "try:\n",
        "  df = pd.read_csv(path+file_name)\n",
        "  print(df.sample(5)) # 5 samples from the DF\n",
        "except FileNotFoundError:\n",
        "  print(f\"Error: File not found at {file_name}\")\n",
        "except Exception as e:\n",
        "  print(f\"An error occurred: {e}\")\n"
      ]
    },
    {
      "cell_type": "code",
      "source": [
        "df.info()"
      ],
      "metadata": {
        "colab": {
          "base_uri": "https://localhost:8080/"
        },
        "id": "5ZEuMHguPVN-",
        "outputId": "f71acc80-9f8a-45c2-8343-3178ed1b448e"
      },
      "execution_count": 3,
      "outputs": [
        {
          "output_type": "stream",
          "name": "stdout",
          "text": [
            "<class 'pandas.core.frame.DataFrame'>\n",
            "RangeIndex: 181156 entries, 0 to 181155\n",
            "Data columns (total 42 columns):\n",
            " #   Column                        Non-Null Count   Dtype  \n",
            "---  ------                        --------------   -----  \n",
            " 0   account_id                    181156 non-null  int64  \n",
            " 1   account_name                  181156 non-null  object \n",
            " 2   incorporated_country          181156 non-null  object \n",
            " 3   ticker                        117989 non-null  object \n",
            " 4   Evaluation_status             180307 non-null  object \n",
            " 5   Scope_3_emissions_type        181156 non-null  object \n",
            " 6   Scope_3_emissions_amount      181156 non-null  float64\n",
            " 7   Symbol_1                      181156 non-null  object \n",
            " 8   Year                          181156 non-null  int64  \n",
            " 9   Market_Cap                    115901 non-null  float64\n",
            " 10  Employee_Count                23397 non-null   float64\n",
            " 11  ebitda                        118470 non-null  float64\n",
            " 12  Revenue                       118470 non-null  float64\n",
            " 13  grossProfit                   118470 non-null  float64\n",
            " 14  netIncome                     118470 non-null  float64\n",
            " 15  reportedCurrency              154612 non-null  object \n",
            " 16  cashAndCashEquivalents        118435 non-null  float64\n",
            " 17  shortTermInvestments          118435 non-null  float64\n",
            " 18  longTermInvestments           118435 non-null  float64\n",
            " 19  totalAssets                   118435 non-null  float64\n",
            " 20  totalLiabilities              118435 non-null  float64\n",
            " 21  totalInvestments              118435 non-null  float64\n",
            " 22  totalDebt                     118435 non-null  float64\n",
            " 23  totalEquity                   118435 non-null  float64\n",
            " 24  Primary activity              173226 non-null  object \n",
            " 25  Primary sector                173226 non-null  object \n",
            " 26  Primary industry              173226 non-null  object \n",
            " 27  Primary questionnaire sector  173226 non-null  object \n",
            " 28  Third_party_verification      177776 non-null  object \n",
            " 29  Revenue_USD                   116622 non-null  float64\n",
            " 30  Market_Cap_USD                114053 non-null  float64\n",
            " 31  ebitda_USD                    116622 non-null  float64\n",
            " 32  grossProfit_USD               116622 non-null  float64\n",
            " 33  netIncome_USD                 116622 non-null  float64\n",
            " 34  cashAndCashEquivalents_USD    116587 non-null  float64\n",
            " 35  shortTermInvestments_USD      116587 non-null  float64\n",
            " 36  longTermInvestments_USD       116587 non-null  float64\n",
            " 37  totalAssets_USD               116587 non-null  float64\n",
            " 38  totalLiabilities_USD          116587 non-null  float64\n",
            " 39  totalInvestments_USD          116587 non-null  float64\n",
            " 40  totalDebt_USD                 116587 non-null  float64\n",
            " 41  totalEquity_USD               116587 non-null  float64\n",
            "dtypes: float64(28), int64(2), object(12)\n",
            "memory usage: 58.0+ MB\n"
          ]
        }
      ]
    },
    {
      "cell_type": "code",
      "source": [
        "#cleans account_name\n",
        "\n",
        "def remove_whitespace_punctuation(account_name):\n",
        "  if account_name is None:\n",
        "    return None\n",
        "  account_name = re.sub(r'\\s+', '', account_name)  #remove whitespace\n",
        "  account_name = re.sub(r'[^\\w\\s]', '', account_name)  #remove punctuation\n",
        "  return account_name\n"
      ],
      "metadata": {
        "id": "lJ-_HbSBTqY7"
      },
      "execution_count": 4,
      "outputs": []
    },
    {
      "cell_type": "code",
      "source": [
        "df['account_name'] = df['account_name'].apply(remove_whitespace_punctuation)"
      ],
      "metadata": {
        "id": "KCsJMpT0T3_G"
      },
      "execution_count": 5,
      "outputs": []
    },
    {
      "cell_type": "code",
      "source": [
        "#displaying unique ID and account names.\n",
        "try:\n",
        "  unique_account_id_count = df['account_id'].nunique()\n",
        "  unique_account_name_count = df['account_name'].nunique()\n",
        "\n",
        "  print(f\"Number of unique account IDs: {unique_account_id_count}\")\n",
        "  print(f\"Number of unique account names: {unique_account_name_count}\")\n",
        "\n",
        "except Exception as e:\n",
        "  print(f\"An error occurred: {e}\")\n"
      ],
      "metadata": {
        "colab": {
          "base_uri": "https://localhost:8080/"
        },
        "id": "orKOmzzQM5aJ",
        "outputId": "4c3f7350-cbf9-4b05-d352-c03f3eb194f5"
      },
      "execution_count": 6,
      "outputs": [
        {
          "output_type": "stream",
          "name": "stdout",
          "text": [
            "Number of unique account IDs: 8795\n",
            "Number of unique account names: 9319\n"
          ]
        }
      ]
    },
    {
      "cell_type": "markdown",
      "source": [
        "I've decided to standardize account_name by the most recently reported account_name for each account_id."
      ],
      "metadata": {
        "id": "nu-yE2G0RwYC"
      }
    },
    {
      "cell_type": "code",
      "source": [
        "#get most recent account_id/name\n",
        "df['Year'] = pd.to_datetime(df['Year'], errors='coerce').dt.year  # Convert Year to a numeric year\n",
        "account_id_most_recent_year = df.groupby('account_id')['Year'].max()\n",
        "\n",
        "#dictionary that maps account_id to the most recent account_name\n",
        "account_id_to_most_recent_name = {}\n",
        "for account_id, most_recent_year in account_id_most_recent_year.items():\n",
        "  most_recent_name = df[(df['account_id'] == account_id) & (df['Year'] == most_recent_year)]['account_name'].iloc[0]\n",
        "  account_id_to_most_recent_name[account_id] = most_recent_name\n",
        "\n",
        "#replace account_names with the most recent account_name for each account_id\n",
        "df['account_name'] = df['account_id'].map(account_id_to_most_recent_name)\n",
        "\n",
        "#verify that account names have been merged to account ID\n",
        "#this number should agree with unique account IDs above\n",
        "unique_account_name_count = df['account_name'].nunique()\n",
        "print(f\"Number of unique account names: {unique_account_name_count}\")"
      ],
      "metadata": {
        "colab": {
          "base_uri": "https://localhost:8080/"
        },
        "id": "4hFUWEf3PEgJ",
        "outputId": "f81f3250-7982-4d4a-8f2c-199755ecded8"
      },
      "execution_count": 7,
      "outputs": [
        {
          "output_type": "stream",
          "name": "stdout",
          "text": [
            "Number of unique account names: 8792\n"
          ]
        }
      ]
    },
    {
      "cell_type": "code",
      "source": [],
      "metadata": {
        "id": "VT6MCJZcP89x"
      },
      "execution_count": 7,
      "outputs": []
    }
  ]
}