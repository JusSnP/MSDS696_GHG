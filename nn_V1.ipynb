{
  "nbformat": 4,
  "nbformat_minor": 0,
  "metadata": {
    "colab": {
      "provenance": [],
      "mount_file_id": "https://github.com/JusSnP/MSDS696_GHG/blob/nn_v1/nn_V1.ipynb",
      "authorship_tag": "ABX9TyMUEd2NOSLFJEX65CCOMitU"
    },
    "kernelspec": {
      "name": "python3",
      "display_name": "Python 3"
    },
    "language_info": {
      "name": "python"
    }
  },
  "cells": [
    {
      "cell_type": "markdown",
      "source": [
        "Kears NN and tensorboard v1"
      ],
      "metadata": {
        "id": "0-z3PlhE8AWH"
      }
    },
    {
      "cell_type": "code",
      "execution_count": 1,
      "metadata": {
        "id": "r6UxAKGx7aaC"
      },
      "outputs": [],
      "source": [
        "import pandas as pd\n",
        "import tensorflow as tf\n",
        "import numpy as np\n",
        "import matplotlib.pyplot as plt\n",
        "import seaborn as sns\n",
        "\n",
        "from tensorflow import keras\n",
        "from tensorflow.keras.models import Sequential\n",
        "from tensorflow.keras.layers import Activation, Dense\n",
        "from tensorflow.keras.optimizers import Adam\n",
        "from tensorflow.keras.metrics import categorical_crossentropy\n",
        "from tensorflow.keras.metrics import Accuracy\n",
        "from tensorflow.keras.metrics import Precision\n",
        "from tensorflow.keras.metrics import Recall\n",
        "from tensorflow.keras.metrics import AUC\n",
        "from tensorflow.keras.metrics import FalseNegatives\n",
        "from tensorflow.keras.metrics import FalsePositives\n",
        "from tensorflow.keras.metrics import TrueNegatives\n",
        "from tensorflow.keras.metrics import TruePositives\n",
        "from tensorflow.keras.metrics import PrecisionAtRecall\n",
        "from tensorflow.keras.metrics import RecallAtPrecision\n",
        "from tensorflow.keras.metrics import MeanSquaredError\n",
        "from tensorflow.keras.metrics import RootMeanSquaredError\n",
        "from tensorflow.keras.metrics import MeanAbsoluteError\n",
        "from tensorflow.keras.metrics import MeanAbsolutePercentageError\n",
        "from tensorflow.keras.metrics import MeanSquaredLogarithmicError\n",
        "from tensorflow.keras.regularizers import l1, l2, l1_l2\n",
        "from tensorflow.keras.callbacks import EarlyStopping\n",
        "from tensorflow.keras.callbacks import TensorBoard\n",
        "from sklearn.model_selection import train_test_split\n",
        "from sklearn.preprocessing import StandardScaler\n",
        "\n",
        "import os\n",
        "import re"
      ]
    },
    {
      "cell_type": "markdown",
      "source": [],
      "metadata": {
        "id": "ZBBswXBO9SPm"
      }
    },
    {
      "cell_type": "code",
      "source": [
        "#path to personal environment\n",
        "path = '/content/drive/MyDrive/GHG/MSDS696/MSDS696_GHG/'\n"
      ],
      "metadata": {
        "id": "_pVeRYUE8wxD"
      },
      "execution_count": 2,
      "outputs": []
    },
    {
      "cell_type": "code",
      "source": [
        "df = pd.read_csv(path+'Data/GHG_Post_Outlier.csv')\n",
        "df.info()"
      ],
      "metadata": {
        "colab": {
          "base_uri": "https://localhost:8080/"
        },
        "id": "uHGpbKDy8Tho",
        "outputId": "c9e327b4-9152-4d75-d592-3204491f6b9e"
      },
      "execution_count": 3,
      "outputs": [
        {
          "output_type": "stream",
          "name": "stdout",
          "text": [
            "<class 'pandas.core.frame.DataFrame'>\n",
            "RangeIndex: 44079 entries, 0 to 44078\n",
            "Data columns (total 25 columns):\n",
            " #   Column                      Non-Null Count  Dtype  \n",
            "---  ------                      --------------  -----  \n",
            " 0   account_name                44079 non-null  object \n",
            " 1   account_id                  44079 non-null  int64  \n",
            " 2   Year                        44079 non-null  int64  \n",
            " 3   incorporated_country        44079 non-null  object \n",
            " 4   Primary activity            44079 non-null  object \n",
            " 5   Primary sector              44079 non-null  object \n",
            " 6   Market_Cap_USD              37591 non-null  float64\n",
            " 7   Third_party_verification    44055 non-null  object \n",
            " 8   Revenue_USD                 37799 non-null  float64\n",
            " 9   ebitda_USD                  37799 non-null  float64\n",
            " 10  grossProfit_USD             37799 non-null  float64\n",
            " 11  netIncome_USD               37799 non-null  float64\n",
            " 12  cashAndCashEquivalents_USD  37799 non-null  float64\n",
            " 13  shortTermInvestments_USD    37799 non-null  float64\n",
            " 14  longTermInvestments_USD     37799 non-null  float64\n",
            " 15  totalAssets_USD             37799 non-null  float64\n",
            " 16  totalLiabilities_USD        37799 non-null  float64\n",
            " 17  totalInvestments_USD        37799 non-null  float64\n",
            " 18  totalDebt_USD               37799 non-null  float64\n",
            " 19  totalEquity_USD             37799 non-null  float64\n",
            " 20  Scope_3_emissions_type      44079 non-null  object \n",
            " 21  Scope_3_emissions_amount    44079 non-null  float64\n",
            " 22  country_ghg_avg             43990 non-null  float64\n",
            " 23  country_population_avg      44079 non-null  float64\n",
            " 24  country_gdp_avg             44079 non-null  float64\n",
            "dtypes: float64(17), int64(2), object(6)\n",
            "memory usage: 8.4+ MB\n"
          ]
        }
      ]
    },
    {
      "cell_type": "code",
      "source": [
        "df_fmp = pd.read_csv(path+'Data/mm_fmp_data_20250302_005601.csv')\n",
        "df_fmp.info()"
      ],
      "metadata": {
        "id": "jgcQ5rt0PFCv",
        "outputId": "e47276ee-61c7-4104-f300-7d0f4d22a1a9",
        "colab": {
          "base_uri": "https://localhost:8080/"
        }
      },
      "execution_count": 4,
      "outputs": [
        {
          "output_type": "stream",
          "name": "stderr",
          "text": [
            "<ipython-input-4-6eb9125f07ff>:1: DtypeWarning: Columns (3) have mixed types. Specify dtype option on import or set low_memory=False.\n",
            "  df_fmp = pd.read_csv(path+'Data/mm_fmp_data_20250302_005601.csv')\n"
          ]
        },
        {
          "output_type": "stream",
          "name": "stdout",
          "text": [
            "<class 'pandas.core.frame.DataFrame'>\n",
            "RangeIndex: 181326 entries, 0 to 181325\n",
            "Data columns (total 49 columns):\n",
            " #   Column                        Non-Null Count   Dtype  \n",
            "---  ------                        --------------   -----  \n",
            " 0   account_id                    181326 non-null  int64  \n",
            " 1   account_name                  181326 non-null  object \n",
            " 2   incorporated_country          181326 non-null  object \n",
            " 3   ticker                        118117 non-null  object \n",
            " 4   Evaluation_status             180477 non-null  object \n",
            " 5   Scope_3_emissions_type        181326 non-null  object \n",
            " 6   Scope_3_emissions_amount      181326 non-null  float64\n",
            " 7   Symbol_1                      181326 non-null  object \n",
            " 8   Year                          181326 non-null  int64  \n",
            " 9   Market_Cap                    116071 non-null  float64\n",
            " 10  Employee_Count                23567 non-null   float64\n",
            " 11  ebitda                        118640 non-null  float64\n",
            " 12  Revenue                       118640 non-null  float64\n",
            " 13  grossProfit                   118640 non-null  float64\n",
            " 14  netIncome                     118640 non-null  float64\n",
            " 15  reportedCurrency              154782 non-null  object \n",
            " 16  cashAndCashEquivalents        118605 non-null  float64\n",
            " 17  shortTermInvestments          118605 non-null  float64\n",
            " 18  longTermInvestments           118605 non-null  float64\n",
            " 19  totalAssets                   118605 non-null  float64\n",
            " 20  totalLiabilities              118605 non-null  float64\n",
            " 21  totalInvestments              118605 non-null  float64\n",
            " 22  totalDebt                     118605 non-null  float64\n",
            " 23  totalEquity                   118605 non-null  float64\n",
            " 24  Primary activity              173396 non-null  object \n",
            " 25  Primary sector                173396 non-null  object \n",
            " 26  Primary industry              173396 non-null  object \n",
            " 27  Primary questionnaire sector  173396 non-null  object \n",
            " 28  Third_party_verification      177946 non-null  object \n",
            " 29  Revenue_USD                   116792 non-null  float64\n",
            " 30  Market_Cap_USD                114223 non-null  float64\n",
            " 31  ebitda_USD                    116792 non-null  float64\n",
            " 32  grossProfit_USD               116792 non-null  float64\n",
            " 33  netIncome_USD                 116792 non-null  float64\n",
            " 34  cashAndCashEquivalents_USD    116757 non-null  float64\n",
            " 35  shortTermInvestments_USD      116757 non-null  float64\n",
            " 36  longTermInvestments_USD       116757 non-null  float64\n",
            " 37  totalAssets_USD               116757 non-null  float64\n",
            " 38  totalLiabilities_USD          116757 non-null  float64\n",
            " 39  totalInvestments_USD          116757 non-null  float64\n",
            " 40  totalDebt_USD                 116757 non-null  float64\n",
            " 41  totalEquity_USD               116757 non-null  float64\n",
            " 42  environmentalScore            25753 non-null   float64\n",
            " 43  socialScore                   25753 non-null   float64\n",
            " 44  governanceScore               25753 non-null   float64\n",
            " 45  ESGScore                      25753 non-null   float64\n",
            " 46  employeeCount                 18922 non-null   float64\n",
            " 47  random_uniform                181326 non-null  float64\n",
            " 48  random_normal                 181326 non-null  float64\n",
            "dtypes: float64(35), int64(2), object(12)\n",
            "memory usage: 67.8+ MB\n"
          ]
        }
      ]
    },
    {
      "cell_type": "markdown",
      "source": [
        "merge esg data on account id and year"
      ],
      "metadata": {
        "id": "6wVu9pPGOCnf"
      }
    },
    {
      "cell_type": "code",
      "source": [
        "# prompt: add data from df_fmp to df for 'environmentalScore', 'socialScore', 'governanceScore', 'ESGScore', and 'employeeCount' where 'account_id' and 'Year' match\n",
        "\n",
        "for index, row in df_fmp.iterrows():\n",
        "  df.loc[(df['account_id'] == row['account_id']) & (df['Year'] == row['Year']), 'environmentalScore'] = row['environmentalScore']\n",
        "  df.loc[(df['account_id'] == row['account_id']) & (df['Year'] == row['Year']), 'socialScore'] = row['socialScore']\n",
        "  df.loc[(df['account_id'] == row['account_id']) & (df['Year'] == row['Year']), 'governanceScore'] = row['governanceScore']\n",
        "  df.loc[(df['account_id'] == row['account_id']) & (df['Year'] == row['Year']), 'ESGScore'] = row['ESGScore']\n",
        "  df.loc[(df['account_id'] == row['account_id']) & (df['Year'] == row['Year']), 'employeeCount'] = row['employeeCount']\n"
      ],
      "metadata": {
        "id": "85qBTXPcbnJf"
      },
      "execution_count": 5,
      "outputs": []
    },
    {
      "cell_type": "code",
      "source": [
        "df.info()"
      ],
      "metadata": {
        "id": "Pktcn7sKaX_v",
        "outputId": "a37168f5-8b5d-43ad-e81c-35d61fbf6806",
        "colab": {
          "base_uri": "https://localhost:8080/"
        }
      },
      "execution_count": 6,
      "outputs": [
        {
          "output_type": "stream",
          "name": "stdout",
          "text": [
            "<class 'pandas.core.frame.DataFrame'>\n",
            "RangeIndex: 44079 entries, 0 to 44078\n",
            "Data columns (total 30 columns):\n",
            " #   Column                      Non-Null Count  Dtype  \n",
            "---  ------                      --------------  -----  \n",
            " 0   account_name                44079 non-null  object \n",
            " 1   account_id                  44079 non-null  int64  \n",
            " 2   Year                        44079 non-null  int64  \n",
            " 3   incorporated_country        44079 non-null  object \n",
            " 4   Primary activity            44079 non-null  object \n",
            " 5   Primary sector              44079 non-null  object \n",
            " 6   Market_Cap_USD              37591 non-null  float64\n",
            " 7   Third_party_verification    44055 non-null  object \n",
            " 8   Revenue_USD                 37799 non-null  float64\n",
            " 9   ebitda_USD                  37799 non-null  float64\n",
            " 10  grossProfit_USD             37799 non-null  float64\n",
            " 11  netIncome_USD               37799 non-null  float64\n",
            " 12  cashAndCashEquivalents_USD  37799 non-null  float64\n",
            " 13  shortTermInvestments_USD    37799 non-null  float64\n",
            " 14  longTermInvestments_USD     37799 non-null  float64\n",
            " 15  totalAssets_USD             37799 non-null  float64\n",
            " 16  totalLiabilities_USD        37799 non-null  float64\n",
            " 17  totalInvestments_USD        37799 non-null  float64\n",
            " 18  totalDebt_USD               37799 non-null  float64\n",
            " 19  totalEquity_USD             37799 non-null  float64\n",
            " 20  Scope_3_emissions_type      44079 non-null  object \n",
            " 21  Scope_3_emissions_amount    44079 non-null  float64\n",
            " 22  country_ghg_avg             43990 non-null  float64\n",
            " 23  country_population_avg      44079 non-null  float64\n",
            " 24  country_gdp_avg             44079 non-null  float64\n",
            " 25  environmentalScore          9172 non-null   float64\n",
            " 26  socialScore                 9172 non-null   float64\n",
            " 27  governanceScore             9172 non-null   float64\n",
            " 28  ESGScore                    9172 non-null   float64\n",
            " 29  employeeCount               6850 non-null   float64\n",
            "dtypes: float64(22), int64(2), object(6)\n",
            "memory usage: 10.1+ MB\n"
          ]
        }
      ]
    },
    {
      "cell_type": "markdown",
      "source": [
        "merge account name and ids, symbol, and ticker"
      ],
      "metadata": {
        "id": "BUA7onmzKVcZ"
      }
    },
    {
      "cell_type": "code",
      "source": [
        "def remove_whitespace_punctuation(account_name):\n",
        "  if account_name is None:\n",
        "    return None\n",
        "  account_name = re.sub(r'\\s+', '', account_name)  #remove whitespace\n",
        "  account_name = re.sub(r'[^\\w\\s]', '', account_name)  #remove punctuation\n",
        "  return account_name\n"
      ],
      "metadata": {
        "id": "p8aulsXzQcFZ"
      },
      "execution_count": 8,
      "outputs": []
    },
    {
      "cell_type": "code",
      "source": [
        "df['account_name'] = df['account_name'].apply(remove_whitespace_punctuation)"
      ],
      "metadata": {
        "id": "Mz8rNHMvPl48"
      },
      "execution_count": 9,
      "outputs": []
    },
    {
      "cell_type": "code",
      "source": [
        "#displaying unique ID and account names.\n",
        "try:\n",
        "  unique_account_id_count = df['account_id'].nunique()\n",
        "  unique_account_name_count = df['account_name'].nunique()\n",
        "\n",
        "  print(f\"Number of unique account IDs: {unique_account_id_count}\")\n",
        "  print(f\"Number of unique account names: {unique_account_name_count}\")\n",
        "\n",
        "except Exception as e:\n",
        "  print(f\"An error occurred: {e}\")"
      ],
      "metadata": {
        "id": "npU4opvaQeHP",
        "outputId": "ecfe1243-4208-4430-d8bc-691a2831af14",
        "colab": {
          "base_uri": "https://localhost:8080/"
        }
      },
      "execution_count": 10,
      "outputs": [
        {
          "output_type": "stream",
          "name": "stdout",
          "text": [
            "Number of unique account IDs: 1108\n",
            "Number of unique account names: 1183\n"
          ]
        }
      ]
    },
    {
      "cell_type": "code",
      "source": [
        "#group by account_id and get the most recent year for each group\n",
        "df['Year'] = pd.to_datetime(df['Year'], errors='coerce').dt.year\n",
        "df_recent = df.loc[df.groupby('account_id')['Year'].idxmax()]\n",
        "\n",
        "#dictionary mapping account_id to the most recent account_name, ticker, and Symbol_1\n",
        "mapping_dict = df_recent.set_index('account_id')[['account_name']].to_dict('index')\n",
        "\n",
        "#function to replace values based on account_id\n",
        "def replace_values(row):\n",
        "  if row['account_id'] in mapping_dict:\n",
        "    row['account_name'] = mapping_dict[row['account_id']]['account_name']\n",
        "  return row\n",
        "\n",
        "df = df.apply(replace_values, axis=1)"
      ],
      "metadata": {
        "id": "G8RJ_aa0QpVD"
      },
      "execution_count": 11,
      "outputs": []
    },
    {
      "cell_type": "code",
      "source": [
        "#displaying unique ID and account names.\n",
        "try:\n",
        "  unique_account_id_count = df['account_id'].nunique()\n",
        "  unique_account_name_count = df['account_name'].nunique()\n",
        "\n",
        "  print(f\"Number of unique account IDs: {unique_account_id_count}\")\n",
        "  print(f\"Number of unique account names: {unique_account_name_count}\")\n",
        "\n",
        "except Exception as e:\n",
        "  print(f\"An error occurred: {e}\")"
      ],
      "metadata": {
        "id": "7my0yUt7RaYx",
        "outputId": "792de0ec-5f7e-4159-d867-da16ff23a539",
        "colab": {
          "base_uri": "https://localhost:8080/"
        }
      },
      "execution_count": 12,
      "outputs": [
        {
          "output_type": "stream",
          "name": "stdout",
          "text": [
            "Number of unique account IDs: 1108\n",
            "Number of unique account names: 1108\n"
          ]
        }
      ]
    },
    {
      "cell_type": "markdown",
      "source": [
        "add random unfirom and random normal\n"
      ],
      "metadata": {
        "id": "PlNgbFhWPlLV"
      }
    },
    {
      "cell_type": "code",
      "source": [
        "df['random_normal'] = np.random.normal(loc=0, scale=1, size=len(df))\n",
        "df['random_uniform'] = np.random.uniform(low=0, high=1, size=len(df))\n"
      ],
      "metadata": {
        "id": "27IlFXIa8cbE"
      },
      "execution_count": 14,
      "outputs": []
    },
    {
      "cell_type": "code",
      "source": [
        "df.info()"
      ],
      "metadata": {
        "id": "VUyUcPRPfVxi",
        "outputId": "93495bb2-610f-456d-d114-73d1ec05d083",
        "colab": {
          "base_uri": "https://localhost:8080/"
        }
      },
      "execution_count": 15,
      "outputs": [
        {
          "output_type": "stream",
          "name": "stdout",
          "text": [
            "<class 'pandas.core.frame.DataFrame'>\n",
            "RangeIndex: 44079 entries, 0 to 44078\n",
            "Data columns (total 32 columns):\n",
            " #   Column                      Non-Null Count  Dtype  \n",
            "---  ------                      --------------  -----  \n",
            " 0   account_name                44079 non-null  object \n",
            " 1   account_id                  44079 non-null  int64  \n",
            " 2   Year                        44079 non-null  int64  \n",
            " 3   incorporated_country        44079 non-null  object \n",
            " 4   Primary activity            44079 non-null  object \n",
            " 5   Primary sector              44079 non-null  object \n",
            " 6   Market_Cap_USD              37591 non-null  float64\n",
            " 7   Third_party_verification    44055 non-null  object \n",
            " 8   Revenue_USD                 37799 non-null  float64\n",
            " 9   ebitda_USD                  37799 non-null  float64\n",
            " 10  grossProfit_USD             37799 non-null  float64\n",
            " 11  netIncome_USD               37799 non-null  float64\n",
            " 12  cashAndCashEquivalents_USD  37799 non-null  float64\n",
            " 13  shortTermInvestments_USD    37799 non-null  float64\n",
            " 14  longTermInvestments_USD     37799 non-null  float64\n",
            " 15  totalAssets_USD             37799 non-null  float64\n",
            " 16  totalLiabilities_USD        37799 non-null  float64\n",
            " 17  totalInvestments_USD        37799 non-null  float64\n",
            " 18  totalDebt_USD               37799 non-null  float64\n",
            " 19  totalEquity_USD             37799 non-null  float64\n",
            " 20  Scope_3_emissions_type      44079 non-null  object \n",
            " 21  Scope_3_emissions_amount    44079 non-null  float64\n",
            " 22  country_ghg_avg             43990 non-null  float64\n",
            " 23  country_population_avg      44079 non-null  float64\n",
            " 24  country_gdp_avg             44079 non-null  float64\n",
            " 25  environmentalScore          9172 non-null   float64\n",
            " 26  socialScore                 9172 non-null   float64\n",
            " 27  governanceScore             9172 non-null   float64\n",
            " 28  ESGScore                    9172 non-null   float64\n",
            " 29  employeeCount               6850 non-null   float64\n",
            " 30  random_normal               44079 non-null  float64\n",
            " 31  random_uniform              44079 non-null  float64\n",
            "dtypes: float64(24), int64(2), object(6)\n",
            "memory usage: 10.8+ MB\n"
          ]
        }
      ]
    },
    {
      "cell_type": "markdown",
      "source": [
        "output final merged df with account_id corrections and esg data to CSV"
      ],
      "metadata": {
        "id": "aYpZDswPOMdB"
      }
    },
    {
      "cell_type": "code",
      "source": [],
      "metadata": {
        "id": "Da4z8pu2OStM"
      },
      "execution_count": null,
      "outputs": []
    },
    {
      "cell_type": "markdown",
      "source": [
        "create dictionary of DFs for each scope 3 emission type"
      ],
      "metadata": {
        "id": "EZeMZSigKY1M"
      }
    },
    {
      "cell_type": "code",
      "source": [],
      "metadata": {
        "id": "mP8OwQtoKugO"
      },
      "execution_count": null,
      "outputs": []
    },
    {
      "cell_type": "markdown",
      "source": [
        "check entries per year to make sure 2022 has enough for validation"
      ],
      "metadata": {
        "id": "iR7FrqtoK3dP"
      }
    },
    {
      "cell_type": "markdown",
      "source": [
        "split data on 2013-2021 and 2022 validation"
      ],
      "metadata": {
        "id": "FijxmGeeKvJ0"
      }
    }
  ]
}