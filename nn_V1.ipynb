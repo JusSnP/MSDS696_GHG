{
  "nbformat": 4,
  "nbformat_minor": 0,
  "metadata": {
    "colab": {
      "provenance": [],
      "mount_file_id": "https://github.com/JusSnP/MSDS696_GHG/blob/nn_v1/nn_V1.ipynb",
      "authorship_tag": "ABX9TyMN+WhjUaaEZGHvkpwrZ4Z4"
    },
    "kernelspec": {
      "name": "python3",
      "display_name": "Python 3"
    },
    "language_info": {
      "name": "python"
    }
  },
  "cells": [
    {
      "cell_type": "markdown",
      "source": [
        "Kears NN and tensorboard v1"
      ],
      "metadata": {
        "id": "0-z3PlhE8AWH"
      }
    },
    {
      "cell_type": "code",
      "execution_count": 8,
      "metadata": {
        "id": "r6UxAKGx7aaC"
      },
      "outputs": [],
      "source": [
        "import pandas as pd\n",
        "import tensorflow as tf\n",
        "import numpy as np\n",
        "import matplotlib.pyplot as plt\n",
        "import seaborn as sns\n",
        "\n",
        "from tensorflow import keras\n",
        "from tensorflow.keras.models import Sequential\n",
        "from tensorflow.keras.layers import Activation, Dense\n",
        "from tensorflow.keras.optimizers import Adam\n",
        "from tensorflow.keras.metrics import categorical_crossentropy\n",
        "from sklearn.model_selection import train_test_split\n",
        "from sklearn.preprocessing import StandardScaler\n",
        "\n",
        "import os"
      ]
    },
    {
      "cell_type": "markdown",
      "source": [],
      "metadata": {
        "id": "ZBBswXBO9SPm"
      }
    },
    {
      "cell_type": "code",
      "source": [
        "#path to personal environment\n",
        "path = '/content/drive/MyDrive/GHG/MSDS696/MSDS696_GHG/'\n"
      ],
      "metadata": {
        "id": "_pVeRYUE8wxD"
      },
      "execution_count": 12,
      "outputs": []
    },
    {
      "cell_type": "code",
      "source": [
        "df = pd.read_csv(path+'Data/GHG_Post_Outlier.csv')\n",
        "df.info()"
      ],
      "metadata": {
        "colab": {
          "base_uri": "https://localhost:8080/"
        },
        "id": "uHGpbKDy8Tho",
        "outputId": "8cead389-7153-4d28-8910-1822279ddcda"
      },
      "execution_count": 14,
      "outputs": [
        {
          "output_type": "stream",
          "name": "stdout",
          "text": [
            "<class 'pandas.core.frame.DataFrame'>\n",
            "RangeIndex: 44079 entries, 0 to 44078\n",
            "Data columns (total 25 columns):\n",
            " #   Column                      Non-Null Count  Dtype  \n",
            "---  ------                      --------------  -----  \n",
            " 0   account_name                44079 non-null  object \n",
            " 1   account_id                  44079 non-null  int64  \n",
            " 2   Year                        44079 non-null  int64  \n",
            " 3   incorporated_country        44079 non-null  object \n",
            " 4   Primary activity            44079 non-null  object \n",
            " 5   Primary sector              44079 non-null  object \n",
            " 6   Market_Cap_USD              37591 non-null  float64\n",
            " 7   Third_party_verification    44055 non-null  object \n",
            " 8   Revenue_USD                 37799 non-null  float64\n",
            " 9   ebitda_USD                  37799 non-null  float64\n",
            " 10  grossProfit_USD             37799 non-null  float64\n",
            " 11  netIncome_USD               37799 non-null  float64\n",
            " 12  cashAndCashEquivalents_USD  37799 non-null  float64\n",
            " 13  shortTermInvestments_USD    37799 non-null  float64\n",
            " 14  longTermInvestments_USD     37799 non-null  float64\n",
            " 15  totalAssets_USD             37799 non-null  float64\n",
            " 16  totalLiabilities_USD        37799 non-null  float64\n",
            " 17  totalInvestments_USD        37799 non-null  float64\n",
            " 18  totalDebt_USD               37799 non-null  float64\n",
            " 19  totalEquity_USD             37799 non-null  float64\n",
            " 20  Scope_3_emissions_type      44079 non-null  object \n",
            " 21  Scope_3_emissions_amount    44079 non-null  float64\n",
            " 22  country_ghg_avg             43990 non-null  float64\n",
            " 23  country_population_avg      44079 non-null  float64\n",
            " 24  country_gdp_avg             44079 non-null  float64\n",
            "dtypes: float64(17), int64(2), object(6)\n",
            "memory usage: 8.4+ MB\n"
          ]
        }
      ]
    },
    {
      "cell_type": "markdown",
      "source": [
        "merge esg data on account id and year"
      ],
      "metadata": {
        "id": "6wVu9pPGOCnf"
      }
    },
    {
      "cell_type": "code",
      "source": [],
      "metadata": {
        "id": "6E4kKEK4OBco"
      },
      "execution_count": null,
      "outputs": []
    },
    {
      "cell_type": "markdown",
      "source": [
        "merge account name and ids, symbol, and ticker"
      ],
      "metadata": {
        "id": "BUA7onmzKVcZ"
      }
    },
    {
      "cell_type": "code",
      "source": [],
      "metadata": {
        "id": "27IlFXIa8cbE"
      },
      "execution_count": null,
      "outputs": []
    },
    {
      "cell_type": "markdown",
      "source": [
        "output final merged df with account_id corrections and esg data to CSV"
      ],
      "metadata": {
        "id": "aYpZDswPOMdB"
      }
    },
    {
      "cell_type": "code",
      "source": [],
      "metadata": {
        "id": "Da4z8pu2OStM"
      },
      "execution_count": null,
      "outputs": []
    },
    {
      "cell_type": "markdown",
      "source": [
        "create dictionary of DFs for each scope 3 emission type"
      ],
      "metadata": {
        "id": "EZeMZSigKY1M"
      }
    },
    {
      "cell_type": "code",
      "source": [],
      "metadata": {
        "id": "mP8OwQtoKugO"
      },
      "execution_count": null,
      "outputs": []
    },
    {
      "cell_type": "markdown",
      "source": [
        "check entries per year to make sure 2022 has enough for validation"
      ],
      "metadata": {
        "id": "iR7FrqtoK3dP"
      }
    },
    {
      "cell_type": "markdown",
      "source": [
        "split data on 2013-2021 and 2022 validation"
      ],
      "metadata": {
        "id": "FijxmGeeKvJ0"
      }
    }
  ]
}